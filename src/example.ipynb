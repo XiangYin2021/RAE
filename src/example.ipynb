{
 "cells": [
  {
   "cell_type": "markdown",
   "id": "9eb46009",
   "metadata": {},
   "source": [
    "# Instructions\n",
    "\n",
    "In order to use the notebook, you need to install Gurobi and get a license (academic licenses are free)\n",
    "https://www.gurobi.com/academia/academic-program-and-licenses/\n",
    "\n",
    "Furthermore, your Python environment requires the packages\n",
    "- numpy \n",
    "- scipy\n",
    "- gurobipy\n",
    "\n",
    "If you get an error message stating that you do not have a license, you may have to replace the default Gurobi license file in your environment by the license file created by your Gurobi installation  "
   ]
  },
  {
   "cell_type": "code",
   "execution_count": 9,
   "id": "cd03d0ed",
   "metadata": {},
   "outputs": [],
   "source": [
    "import uncertainpy.propositional\n",
    "\n",
    "from uncertainpy.propositional.syntax import *\n",
    "from uncertainpy.propositional.semantics import *\n",
    "from uncertainpy.probability.probEntailment import *"
   ]
  },
  {
   "cell_type": "markdown",
   "id": "64260d15",
   "metadata": {},
   "source": [
    "# Example 1\n",
    "\n",
    "Create a small knowledge base and answer a query"
   ]
  },
  {
   "cell_type": "code",
   "execution_count": 15,
   "id": "65bbe141",
   "metadata": {},
   "outputs": [],
   "source": [
    "#Create some atoms\n",
    "a = BooleanAtom('A')\n",
    "b = BooleanAtom('B')\n",
    "c = BooleanAtom('C')\n",
    "\n",
    "#Create a knowledge base\n",
    "kb = list()\n",
    "kb.append(Conditional(a, None, 0.8, 0.9))\n",
    "kb.append(Conditional(b, None, 0.8, 0.9))\n",
    "kb.append(Conditional(b, a, 0.75, 0.75))\n",
    "kb.append(Conditional(a, b, 0.75, 0.75))\n",
    "\n",
    "#Create an object that manages interpretations\n",
    "ints = BooleanInterpretation([a,b,c])"
   ]
  },
  {
   "cell_type": "code",
   "execution_count": 16,
   "id": "9917e700",
   "metadata": {},
   "outputs": [
    {
     "name": "stdout",
     "output_type": "stream",
     "text": [
      "Create point constraint for (B|A)[0.75]\n",
      "Create point constraint for (A|B)[0.75]\n",
      "Create lower constraint for (A)[0.8, 0.9]\n",
      "Create lower constraint for (B)[0.8, 0.9]\n",
      "Create upper constraint for (A)[0.8, 0.9]\n",
      "Create upper constraint for (B)[0.8, 0.9]\n"
     ]
    }
   ],
   "source": [
    "#initialize the reasoning engine with the knowledge base\n",
    "pent = ProbEntailmentEngine()\n",
    "pent.createConstraints(kb, ints)"
   ]
  },
  {
   "cell_type": "code",
   "execution_count": 19,
   "id": "4638395d",
   "metadata": {},
   "outputs": [
    {
     "name": "stdout",
     "output_type": "stream",
     "text": [
      "Gurobi Optimizer version 9.1.2 build v9.1.2rc0 (win64)\n",
      "Thread count: 8 physical cores, 16 logical processors, using up to 16 threads\n",
      "Optimize a model with 9 rows, 13 columns and 69 nonzeros\n",
      "Coefficient statistics:\n",
      "  Matrix range     [1e-01, 1e+00]\n",
      "  Objective range  [1e+00, 1e+00]\n",
      "  Bounds range     [0e+00, 0e+00]\n",
      "  RHS range        [1e+00, 1e+00]\n",
      "Iteration    Objective       Primal Inf.    Dual Inf.      Time\n",
      "       0    8.0000000e-01   0.000000e+00   0.000000e+00      0s\n",
      "\n",
      "Solved in 0 iterations and 0.00 seconds\n",
      "Optimal objective  8.000000000e-01\n",
      "Gurobi Optimizer version 9.1.2 build v9.1.2rc0 (win64)\n",
      "Thread count: 8 physical cores, 16 logical processors, using up to 16 threads\n",
      "Optimize a model with 9 rows, 13 columns and 69 nonzeros\n",
      "Coefficient statistics:\n",
      "  Matrix range     [1e-01, 1e+00]\n",
      "  Objective range  [1e+00, 1e+00]\n",
      "  Bounds range     [0e+00, 0e+00]\n",
      "  RHS range        [1e+00, 1e+00]\n",
      "Iteration    Objective       Primal Inf.    Dual Inf.      Time\n",
      "       0    9.9999999e+29   3.250000e+30   1.000000e+00      0s\n",
      "       1    8.0000000e-01   0.000000e+00   0.000000e+00      0s\n",
      "\n",
      "Solved in 1 iterations and 0.00 seconds\n",
      "Optimal objective  8.000000000e-01\n",
      "kb |= (A)[0.8000000000000002]\n"
     ]
    },
    {
     "data": {
      "text/plain": [
       "<uncertainpy.propositional.syntax.Conditional at 0x27cb769b8e0>"
      ]
     },
     "execution_count": 19,
     "metadata": {},
     "output_type": "execute_result"
    }
   ],
   "source": [
    "#after initialization, you can ask queries\n",
    "#Queries are represented as conditionals of the form (b|a)[l,u] (Conditional(b,a,l,u))\n",
    "query = Conditional(a, None, None, None)\n",
    "\n",
    "#computeBounds initializes the query object with derived lower and upper bounds (and also returns it) \n",
    "pent.computeBounds(query)"
   ]
  },
  {
   "cell_type": "code",
   "execution_count": 20,
   "id": "d991fde2",
   "metadata": {},
   "outputs": [
    {
     "name": "stdout",
     "output_type": "stream",
     "text": [
      "(A)[0.8000000000000002]\n"
     ]
    }
   ],
   "source": [
    "#print the conditional with derived probabilities\n",
    "print(query)"
   ]
  },
  {
   "cell_type": "markdown",
   "id": "aa286221",
   "metadata": {},
   "source": [
    "# Example 2\n",
    "\n",
    "Create larger knowledge bases to test runtime performance"
   ]
  },
  {
   "cell_type": "code",
   "execution_count": 6,
   "id": "8524d79d",
   "metadata": {},
   "outputs": [
    {
     "name": "stdout",
     "output_type": "stream",
     "text": [
      "Knowledge Base:\n",
      "(a0)[0.8, 0.9]\n",
      "(a1|a0)[0.8, 0.9]\n",
      "(a2|a1)[0.8, 0.9]\n",
      "(a3|a2)[0.8, 0.9]\n",
      "(a4|a3)[0.8, 0.9]\n",
      "(a5|a4)[0.8, 0.9]\n",
      "(a6|a5)[0.8, 0.9]\n",
      "(a7|a6)[0.8, 0.9]\n",
      "(a8|a7)[0.8, 0.9]\n",
      "(a9|a8)[0.8, 0.9]\n",
      "(a10|a9)[0.8, 0.9]\n",
      "(a11|a10)[0.8, 0.9]\n",
      "(a12|a11)[0.8, 0.9]\n",
      "(a13|a12)[0.8, 0.9]\n",
      "(a14|a13)[0.8, 0.9]\n",
      "Create lower constraint for (a0)[0.8, 0.9]\n",
      "Create lower constraint for (a1|a0)[0.8, 0.9]\n",
      "Create lower constraint for (a2|a1)[0.8, 0.9]\n",
      "Create lower constraint for (a3|a2)[0.8, 0.9]\n",
      "Create lower constraint for (a4|a3)[0.8, 0.9]\n",
      "Create lower constraint for (a5|a4)[0.8, 0.9]\n",
      "Create lower constraint for (a6|a5)[0.8, 0.9]\n",
      "Create lower constraint for (a7|a6)[0.8, 0.9]\n",
      "Create lower constraint for (a8|a7)[0.8, 0.9]\n",
      "Create lower constraint for (a9|a8)[0.8, 0.9]\n",
      "Create lower constraint for (a10|a9)[0.8, 0.9]\n",
      "Create lower constraint for (a11|a10)[0.8, 0.9]\n",
      "Create lower constraint for (a12|a11)[0.8, 0.9]\n",
      "Create lower constraint for (a13|a12)[0.8, 0.9]\n",
      "Create lower constraint for (a14|a13)[0.8, 0.9]\n",
      "Create upper constraint for (a0)[0.8, 0.9]\n",
      "Create upper constraint for (a1|a0)[0.8, 0.9]\n",
      "Create upper constraint for (a2|a1)[0.8, 0.9]\n",
      "Create upper constraint for (a3|a2)[0.8, 0.9]\n",
      "Create upper constraint for (a4|a3)[0.8, 0.9]\n",
      "Create upper constraint for (a5|a4)[0.8, 0.9]\n",
      "Create upper constraint for (a6|a5)[0.8, 0.9]\n",
      "Create upper constraint for (a7|a6)[0.8, 0.9]\n",
      "Create upper constraint for (a8|a7)[0.8, 0.9]\n",
      "Create upper constraint for (a9|a8)[0.8, 0.9]\n",
      "Create upper constraint for (a10|a9)[0.8, 0.9]\n",
      "Create upper constraint for (a11|a10)[0.8, 0.9]\n",
      "Create upper constraint for (a12|a11)[0.8, 0.9]\n",
      "Create upper constraint for (a13|a12)[0.8, 0.9]\n",
      "Create upper constraint for (a14|a13)[0.8, 0.9]\n"
     ]
    }
   ],
   "source": [
    "noAtoms = 15\n",
    "atoms = []\n",
    "for i in range(noAtoms):\n",
    "    atoms.append(BooleanAtom(f\"a{i}\"))\n",
    "    \n",
    "#Create a simple knowledge base where one atom entails the next\n",
    "kb = list()\n",
    "kb.append(Conditional(atoms[0], None, 0.8, 0.9))\n",
    "for i in range(noAtoms-1):\n",
    "    kb.append(Conditional(atoms[i+1], atoms[i], 0.8, 0.9))\n",
    "    \n",
    "print(\"Knowledge Base:\")\n",
    "for cond in kb:\n",
    "    print(cond)\n",
    "    \n",
    "#Create an object that manages interpretations\n",
    "ints = BooleanInterpretation(atoms)\n",
    "\n",
    "#use ProbEntailmentEngine to set up and solve the reasoning problem. \n",
    "pent = ProbEntailmentEngine()\n",
    "pent.createConstraints(kb, ints)"
   ]
  },
  {
   "cell_type": "code",
   "execution_count": 7,
   "id": "57bb1108",
   "metadata": {},
   "outputs": [
    {
     "name": "stdout",
     "output_type": "stream",
     "text": [
      "Gurobi Optimizer version 9.1.1 build v9.1.1rc0 (win64)\n",
      "Thread count: 6 physical cores, 12 logical processors, using up to 12 threads\n",
      "Optimize a model with 32 rows, 32799 columns and 589855 nonzeros\n",
      "Model fingerprint: 0xe1ada5e5\n",
      "Coefficient statistics:\n",
      "  Matrix range     [1e-01, 1e+00]\n",
      "  Objective range  [1e+00, 1e+00]\n",
      "  Bounds range     [0e+00, 0e+00]\n",
      "  RHS range        [1e+00, 1e+00]\n",
      "\n",
      "Concurrent LP optimizer: primal simplex, dual simplex, and barrier\n",
      "Showing barrier log only...\n",
      "\n",
      "Presolve removed 1 rows and 8223 columns\n",
      "Presolve time: 0.23s\n",
      "Presolved: 31 rows, 24576 columns, 425984 nonzeros\n",
      "\n",
      "Ordering time: 0.00s\n",
      "\n",
      "Barrier statistics:\n",
      " AA' NZ     : 4.650e+02\n",
      " Factor NZ  : 4.960e+02 (roughly 10 MBytes of memory)\n",
      " Factor Ops : 1.042e+04 (less than 1 second per iteration)\n",
      " Threads    : 4\n",
      "\n",
      "Barrier performed 0 iterations in 0.28 seconds\n",
      "Barrier solve interrupted - model solved by another algorithm\n",
      "\n",
      "\n",
      "Solved with dual simplex\n",
      "Solved in 29 iterations and 0.29 seconds\n",
      "Optimal objective  3.518437209e-02\n",
      "Gurobi Optimizer version 9.1.1 build v9.1.1rc0 (win64)\n",
      "Thread count: 6 physical cores, 12 logical processors, using up to 12 threads\n",
      "Optimize a model with 32 rows, 32799 columns and 589855 nonzeros\n",
      "Coefficient statistics:\n",
      "  Matrix range     [1e-01, 1e+00]\n",
      "  Objective range  [1e+00, 1e+00]\n",
      "  Bounds range     [0e+00, 0e+00]\n",
      "  RHS range        [1e+00, 1e+00]\n",
      "Iteration    Objective       Primal Inf.    Dual Inf.      Time\n",
      "       0    3.9163384e+34   5.553428e+34   3.916338e+04      0s\n",
      "     830    9.9560195e-01   0.000000e+00   0.000000e+00      0s\n",
      "\n",
      "Solved in 830 iterations and 0.32 seconds\n",
      "Optimal objective  9.956019533e-01\n",
      "kb |= (a14)[0.03518437208883202, 0.995601953325056]\n"
     ]
    },
    {
     "data": {
      "text/plain": [
       "<uncertainpy.propositional.syntax.Conditional at 0x1db74dc4be0>"
      ]
     },
     "execution_count": 7,
     "metadata": {},
     "output_type": "execute_result"
    }
   ],
   "source": [
    "#query the probability of the last atom \n",
    "query = Conditional(atoms[-1], None, None, None)\n",
    "\n",
    "#computeBounds initializes the query object with derived lower and upper bounds (and also returns it) \n",
    "pent.computeBounds(query)"
   ]
  },
  {
   "cell_type": "code",
   "execution_count": 8,
   "id": "0ad3c236",
   "metadata": {},
   "outputs": [
    {
     "name": "stdout",
     "output_type": "stream",
     "text": [
      "(a14)[0.03518437208883202, 0.995601953325056]\n"
     ]
    }
   ],
   "source": [
    "print(query)"
   ]
  },
  {
   "cell_type": "markdown",
   "id": "55463a3f",
   "metadata": {},
   "source": [
    "# Example 3\n",
    "\n",
    "Example with probabilistic formulas"
   ]
  },
  {
   "cell_type": "code",
   "execution_count": 27,
   "id": "8823ac55",
   "metadata": {},
   "outputs": [],
   "source": [
    "#Create some atoms\n",
    "a = BooleanAtom('A')\n",
    "b = BooleanAtom('B')\n",
    "\n",
    "#Create a knowledge base\n",
    "kb = list()\n",
    "kb.append(Conditional(a, None, 0.8, 0.9))\n",
    "kb.append(Conditional(b, a, 0.8, 0.9))\n",
    "\n",
    "#Create an object that manages interpretations\n",
    "ints = BooleanInterpretation([a,b])"
   ]
  },
  {
   "cell_type": "code",
   "execution_count": 28,
   "id": "e889e488",
   "metadata": {},
   "outputs": [
    {
     "name": "stdout",
     "output_type": "stream",
     "text": [
      "Create lower constraint for (A)[0.8, 0.9]\n",
      "Create lower constraint for (B|A)[0.8, 0.9]\n",
      "Create upper constraint for (A)[0.8, 0.9]\n",
      "Create upper constraint for (B|A)[0.8, 0.9]\n"
     ]
    }
   ],
   "source": [
    "#initialize the reasoning engine with the knowledge base\n",
    "pent = ProbEntailmentEngine()\n",
    "pent.createConstraints(kb, ints)"
   ]
  },
  {
   "cell_type": "code",
   "execution_count": 29,
   "id": "dd8d1b68",
   "metadata": {},
   "outputs": [
    {
     "name": "stdout",
     "output_type": "stream",
     "text": [
      "Gurobi Optimizer version 9.1.2 build v9.1.2rc0 (win64)\n",
      "Thread count: 8 physical cores, 16 logical processors, using up to 16 threads\n",
      "Optimize a model with 6 rows, 9 columns and 25 nonzeros\n",
      "Model fingerprint: 0x2e5b679a\n",
      "Coefficient statistics:\n",
      "  Matrix range     [1e-01, 1e+00]\n",
      "  Objective range  [1e+00, 1e+00]\n",
      "  Bounds range     [0e+00, 0e+00]\n",
      "  RHS range        [1e+00, 1e+00]\n",
      "Presolve removed 3 rows and 7 columns\n",
      "Presolve time: 0.00s\n",
      "Presolved: 3 rows, 3 columns, 7 nonzeros\n",
      "\n",
      "Iteration    Objective       Primal Inf.    Dual Inf.      Time\n",
      "       0    0.0000000e+00   8.000000e-01   0.000000e+00      0s\n",
      "       2    6.4000000e-01   0.000000e+00   0.000000e+00      0s\n",
      "\n",
      "Solved in 2 iterations and 0.00 seconds\n",
      "Optimal objective  6.400000000e-01\n",
      "Gurobi Optimizer version 9.1.2 build v9.1.2rc0 (win64)\n",
      "Thread count: 8 physical cores, 16 logical processors, using up to 16 threads\n",
      "Optimize a model with 6 rows, 9 columns and 25 nonzeros\n",
      "Coefficient statistics:\n",
      "  Matrix range     [1e-01, 1e+00]\n",
      "  Objective range  [1e+00, 1e+00]\n",
      "  Bounds range     [0e+00, 0e+00]\n",
      "  RHS range        [1e+00, 1e+00]\n",
      "Iteration    Objective       Primal Inf.    Dual Inf.      Time\n",
      "       0    2.8000000e+30   4.700000e+30   2.800000e+00      0s\n",
      "       6    9.2000000e-01   0.000000e+00   0.000000e+00      0s\n",
      "\n",
      "Solved in 6 iterations and 0.00 seconds\n",
      "Optimal objective  9.199999970e-01\n",
      "kb |= (B)[0.64, 0.9199999970197676]\n"
     ]
    },
    {
     "data": {
      "text/plain": [
       "<uncertainpy.propositional.syntax.Conditional at 0x17eceecf0d0>"
      ]
     },
     "execution_count": 29,
     "metadata": {},
     "output_type": "execute_result"
    }
   ],
   "source": [
    "query = Conditional(b, None, None, None)\n",
    "\n",
    "#computeBounds initializes the query object with derived lower and upper bounds (and also returns it) \n",
    "pent.computeBounds(query)"
   ]
  },
  {
   "cell_type": "code",
   "execution_count": 30,
   "id": "82f0ed00",
   "metadata": {},
   "outputs": [
    {
     "name": "stdout",
     "output_type": "stream",
     "text": [
      "(B)[0.64, 0.9199999970197676]\n"
     ]
    }
   ],
   "source": [
    "#print the conditional with derived probabilities\n",
    "print(query)"
   ]
  },
  {
   "cell_type": "markdown",
   "id": "a4af2daa",
   "metadata": {},
   "source": [
    "# Example 4\n",
    "\n",
    "Relational"
   ]
  },
  {
   "cell_type": "code",
   "execution_count": 33,
   "id": "a74a91bf",
   "metadata": {},
   "outputs": [],
   "source": [
    "#Create some atoms\n",
    "a = BooleanAtom('infected(a)')\n",
    "b = BooleanAtom('infected(b)')\n",
    "c = BooleanAtom('contact(a,b)')\n",
    "\n",
    "#Create a knowledge base\n",
    "kb = list()\n",
    "kb.append(Conditional(a, None, 1, 1))\n",
    "kb.append(Conditional(c, None, 0.6, 0.8))\n",
    "kb.append(Conditional(b, Conjunction(a, c), 0.8, 0.9))\n",
    "\n",
    "#Create an object that manages interpretations\n",
    "ints = BooleanInterpretation([a,b,c])"
   ]
  },
  {
   "cell_type": "code",
   "execution_count": 34,
   "id": "7638f06c",
   "metadata": {},
   "outputs": [
    {
     "name": "stdout",
     "output_type": "stream",
     "text": [
      "Create point constraint for (infected(a))[1]\n",
      "Create lower constraint for (contact(a,b))[0.6, 0.8]\n",
      "Create lower constraint for (infected(b)|(infected(a) * contact(a,b)))[0.8, 0.9]\n",
      "Create upper constraint for (contact(a,b))[0.6, 0.8]\n",
      "Create upper constraint for (infected(b)|(infected(a) * contact(a,b)))[0.8, 0.9]\n"
     ]
    }
   ],
   "source": [
    "#initialize the reasoning engine with the knowledge base\n",
    "pent = ProbEntailmentEngine()\n",
    "pent.createConstraints(kb, ints)"
   ]
  },
  {
   "cell_type": "code",
   "execution_count": 36,
   "id": "6a4e6a29",
   "metadata": {},
   "outputs": [
    {
     "name": "stdout",
     "output_type": "stream",
     "text": [
      "Gurobi Optimizer version 9.1.2 build v9.1.2rc0 (win64)\n",
      "Thread count: 8 physical cores, 16 logical processors, using up to 16 threads\n",
      "Optimize a model with 7 rows, 13 columns and 45 nonzeros\n",
      "Model fingerprint: 0xacbdff75\n",
      "Coefficient statistics:\n",
      "  Matrix range     [1e-01, 1e+00]\n",
      "  Objective range  [1e+00, 1e+00]\n",
      "  Bounds range     [0e+00, 0e+00]\n",
      "  RHS range        [1e+00, 1e+00]\n",
      "Presolve removed 4 rows and 11 columns\n",
      "Presolve time: 0.00s\n",
      "Presolved: 3 rows, 3 columns, 7 nonzeros\n",
      "\n",
      "Iteration    Objective       Primal Inf.    Dual Inf.      Time\n",
      "       0    0.0000000e+00   6.000000e-01   0.000000e+00      0s\n",
      "       2    4.8000000e-01   0.000000e+00   0.000000e+00      0s\n",
      "\n",
      "Solved in 2 iterations and 0.00 seconds\n",
      "Optimal objective  4.800000048e-01\n",
      "Gurobi Optimizer version 9.1.2 build v9.1.2rc0 (win64)\n",
      "Thread count: 8 physical cores, 16 logical processors, using up to 16 threads\n",
      "Optimize a model with 7 rows, 13 columns and 45 nonzeros\n",
      "Coefficient statistics:\n",
      "  Matrix range     [1e-01, 1e+00]\n",
      "  Objective range  [1e+00, 1e+00]\n",
      "  Bounds range     [0e+00, 0e+00]\n",
      "  RHS range        [1e+00, 1e+00]\n",
      "Iteration    Objective       Primal Inf.    Dual Inf.      Time\n",
      "       0    6.4000000e+30   9.100000e+30   6.400000e+00      0s\n",
      "       5    9.4000000e-01   0.000000e+00   0.000000e+00      0s\n",
      "\n",
      "Solved in 5 iterations and 0.00 seconds\n",
      "Optimal objective  9.399999972e-01\n",
      "kb |= (infected(b))[0.4800000047683714, 0.9399999971687792]\n"
     ]
    },
    {
     "data": {
      "text/plain": [
       "<uncertainpy.propositional.syntax.Conditional at 0x17eceed06d0>"
      ]
     },
     "execution_count": 36,
     "metadata": {},
     "output_type": "execute_result"
    }
   ],
   "source": [
    "#query the probability of the last atom \n",
    "query = Conditional(b, None, None, None)\n",
    "\n",
    "#computeBounds initializes the query object with derived lower and upper bounds (and also returns it) \n",
    "pent.computeBounds(query)"
   ]
  },
  {
   "cell_type": "code",
   "execution_count": 38,
   "id": "476fc806",
   "metadata": {},
   "outputs": [
    {
     "name": "stdout",
     "output_type": "stream",
     "text": [
      "(infected(b))[0.4800000047683714, 0.9399999971687792]\n"
     ]
    }
   ],
   "source": [
    "#print the conditional with derived probabilities\n",
    "print(query)"
   ]
  },
  {
   "cell_type": "code",
   "execution_count": null,
   "id": "924cff96",
   "metadata": {},
   "outputs": [],
   "source": []
  }
 ],
 "metadata": {
  "kernelspec": {
   "display_name": "Python 3 (ipykernel)",
   "language": "python",
   "name": "python3"
  },
  "language_info": {
   "codemirror_mode": {
    "name": "ipython",
    "version": 3
   },
   "file_extension": ".py",
   "mimetype": "text/x-python",
   "name": "python",
   "nbconvert_exporter": "python",
   "pygments_lexer": "ipython3",
   "version": "3.8.11"
  }
 },
 "nbformat": 4,
 "nbformat_minor": 5
}
