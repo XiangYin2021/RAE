{
 "cells": [
  {
   "cell_type": "code",
   "execution_count": 12,
   "metadata": {},
   "outputs": [],
   "source": [
    "import sys\n",
    "sys.path.append(\"../../src/\")\n",
    "import numpy as np\n",
    "import math\n",
    "import uncertainpy.gradual as grad"
   ]
  },
  {
   "cell_type": "code",
   "execution_count": 13,
   "outputs": [],
   "source": [
    "from itertools import combinations\n",
    "\n",
    "# generate random combination with number n\n",
    "def combine(temp_list, n):\n",
    "    return list(combinations(temp_list, n))"
   ],
   "metadata": {
    "collapsed": false
   }
  },
  {
   "cell_type": "code",
   "execution_count": 14,
   "outputs": [
    {
     "name": "stdout",
     "output_type": "stream",
     "text": [
      "QuadraticEnergyModel, RK4\n",
      "Time: 3.600000000000002\n",
      "Argument(name=0, weight=0.5, strength=0.4245437375012453)\n",
      "Argument(name=1, weight=0.5, strength=0.4245437375012453)\n",
      "Argument(name=2, weight=0.7302785763532248, strength=0.7302785763532248)\n",
      "Argument(name=3, weight=0.7036425461655201, strength=0.7036425461655201)\n",
      "\n"
     ]
    },
    {
     "data": {
      "text/plain": "0.0009615120122029308"
     },
     "execution_count": 14,
     "metadata": {},
     "output_type": "execute_result"
    }
   ],
   "source": [
    "# set semantics and compute strength of arguments\n",
    "\n",
    "filename = \"../../bags/app.bag\"\n",
    "model = grad.semantics.QuadraticEnergyModel()\n",
    "model.approximator = grad.algorithms.RK4(model)\n",
    "model.BAG = grad.BAG(filename)\n",
    "model.solve(delta=10e-2, epsilon=10e-4, verbose=True, generate_plot=False)"
   ],
   "metadata": {
    "collapsed": false,
    "pycharm": {
     "name": "#%%\n"
    }
   }
  },
  {
   "cell_type": "code",
   "execution_count": 15,
   "metadata": {},
   "outputs": [],
   "source": [
    "# get all the attacks and supports in QBAF\n",
    "att_relation = model.BAG.get_attacks()\n",
    "sup_relation = model.BAG.get_supports()\n",
    "all_relation = att_relation + sup_relation"
   ]
  },
  {
   "cell_type": "code",
   "execution_count": 16,
   "metadata": {},
   "outputs": [
    {
     "data": {
      "text/plain": "[('att', '0', '1'), ('att', '1', '0')]"
     },
     "execution_count": 16,
     "metadata": {},
     "output_type": "execute_result"
    }
   ],
   "source": [
    "# rename relation concisely\n",
    "all_relation_new = []\n",
    "for i in all_relation:\n",
    "    if str(i)[0:3]==\"Att\":\n",
    "        all_relation_new.append((\"att\",str(i.get_attacker().get_name()),str(i.get_attacked().get_name())))\n",
    "    elif str(i)[0:3]==\"Sup\":\n",
    "        all_relation_new.append((\"sup\",str(i.get_supporter().get_name()),str(i.get_supported().get_name())))\n",
    "all_relation_new"
   ]
  },
  {
   "cell_type": "code",
   "execution_count": 17,
   "metadata": {},
   "outputs": [],
   "source": [
    "# set topic argument\n",
    "topic_a = \"1\"\n",
    "topic_arg = model.BAG.arguments[topic_a]"
   ]
  },
  {
   "cell_type": "code",
   "execution_count": 18,
   "metadata": {},
   "outputs": [
    {
     "name": "stdout",
     "output_type": "stream",
     "text": [
      "('0', 0.5, 0.4245437375012453)\n",
      "('1', 0.5, 0.4245437375012453)\n",
      "('2', 0.7302785763532248, 0.7302785763532248)\n",
      "('3', 0.7036425461655201, 0.7036425461655201)\n"
     ]
    }
   ],
   "source": [
    "# compute strength for all arguments\n",
    "for arg in model.BAG.arguments.values():\n",
    "    print((arg.name,arg.initial_weight,arg.strength))"
   ]
  },
  {
   "cell_type": "code",
   "execution_count": 19,
   "metadata": {
    "scrolled": false
   },
   "outputs": [
    {
     "name": "stdout",
     "output_type": "stream",
     "text": [
      "QuadraticEnergyModel, RK4\n",
      "Time: 0.1\n",
      "Argument(name=0, weight=0.5, strength=0.4244593478772404)\n",
      "Argument(name=1, weight=0.5, strength=0.4244593478772404)\n",
      "Argument(name=2, weight=0.7302785763532248, strength=0.7302785763532248)\n",
      "Argument(name=3, weight=0.7036425461655201, strength=0.7036425461655201)\n",
      "\n",
      "QuadraticEnergyModel, RK4\n",
      "Time: 4.799999999999999\n",
      "Argument(name=0, weight=0.5, strength=0.4011526534994821)\n",
      "Argument(name=1, weight=0.5, strength=0.49937831683801126)\n",
      "Argument(name=2, weight=0.7302785763532248, strength=0.7302785763532248)\n",
      "Argument(name=3, weight=0.7036425461655201, strength=0.7036425461655201)\n",
      "\n",
      "QuadraticEnergyModel, RK4\n",
      "Time: 3.5299999999999687\n",
      "Argument(name=0, weight=0.5, strength=0.4246097055317115)\n",
      "Argument(name=1, weight=0.5, strength=0.4246097055317115)\n",
      "Argument(name=2, weight=0.7302785763532248, strength=0.7302785763532248)\n",
      "Argument(name=3, weight=0.7036425461655201, strength=0.7036425461655201)\n",
      "\n",
      "QuadraticEnergyModel, RK4\n",
      "Time: 4.799999999999999\n",
      "Argument(name=0, weight=0.5, strength=0.4993795542488547)\n",
      "Argument(name=1, weight=0.5, strength=0.4011520054901289)\n",
      "Argument(name=2, weight=0.7302785763532248, strength=0.7302785763532248)\n",
      "Argument(name=3, weight=0.7036425461655201, strength=0.7036425461655201)\n",
      "\n",
      "QuadraticEnergyModel, RK4\n",
      "Time: 4.699999999999999\n",
      "Argument(name=0, weight=0.5, strength=0.4999943568499413)\n",
      "Argument(name=1, weight=0.5, strength=0.49910094627130813)\n",
      "Argument(name=2, weight=0.7302785763532248, strength=0.7302785763532248)\n",
      "Argument(name=3, weight=0.7036425461655201, strength=0.7036425461655201)\n",
      "\n",
      "QuadraticEnergyModel, RK4\n",
      "Time: 3.5299999999999687\n",
      "Argument(name=0, weight=0.5, strength=0.4246097055317115)\n",
      "Argument(name=1, weight=0.5, strength=0.4246097055317115)\n",
      "Argument(name=2, weight=0.7302785763532248, strength=0.7302785763532248)\n",
      "Argument(name=3, weight=0.7036425461655201, strength=0.7036425461655201)\n",
      "\n",
      "QuadraticEnergyModel, RK4\n",
      "Time: 0.1\n",
      "Argument(name=0, weight=0.5, strength=0.42451724647254646)\n",
      "Argument(name=1, weight=0.5, strength=0.42451724647254646)\n",
      "Argument(name=2, weight=0.7302785763532248, strength=0.7302785763532248)\n",
      "Argument(name=3, weight=0.7036425461655201, strength=0.7036425461655201)\n",
      "\n",
      "QuadraticEnergyModel, RK4\n",
      "Time: 4.799999999999999\n",
      "Argument(name=0, weight=0.5, strength=0.49937879333087687)\n",
      "Argument(name=1, weight=0.5, strength=0.40115240397333246)\n",
      "Argument(name=2, weight=0.7302785763532248, strength=0.7302785763532248)\n",
      "Argument(name=3, weight=0.7036425461655201, strength=0.7036425461655201)\n",
      "\n",
      "QuadraticEnergyModel, RK4\n",
      "Time: 3.5299999999999687\n",
      "Argument(name=0, weight=0.5, strength=0.4246097055317115)\n",
      "Argument(name=1, weight=0.5, strength=0.4246097055317115)\n",
      "Argument(name=2, weight=0.7302785763532248, strength=0.7302785763532248)\n",
      "Argument(name=3, weight=0.7036425461655201, strength=0.7036425461655201)\n",
      "\n",
      "QuadraticEnergyModel, RK4\n",
      "Time: 4.799999999999999\n",
      "Argument(name=0, weight=0.5, strength=0.4011520054901289)\n",
      "Argument(name=1, weight=0.5, strength=0.4993795542488547)\n",
      "Argument(name=2, weight=0.7302785763532248, strength=0.7302785763532248)\n",
      "Argument(name=3, weight=0.7036425461655201, strength=0.7036425461655201)\n",
      "\n",
      "QuadraticEnergyModel, RK4\n",
      "Time: 4.699999999999999\n",
      "Argument(name=0, weight=0.5, strength=0.49910094627130813)\n",
      "Argument(name=1, weight=0.5, strength=0.4999943568499413)\n",
      "Argument(name=2, weight=0.7302785763532248, strength=0.7302785763532248)\n",
      "Argument(name=3, weight=0.7036425461655201, strength=0.7036425461655201)\n",
      "\n",
      "QuadraticEnergyModel, RK4\n",
      "Time: 3.5299999999999687\n",
      "Argument(name=0, weight=0.5, strength=0.4246097055317115)\n",
      "Argument(name=1, weight=0.5, strength=0.4246097055317115)\n",
      "Argument(name=2, weight=0.7302785763532248, strength=0.7302785763532248)\n",
      "Argument(name=3, weight=0.7036425461655201, strength=0.7036425461655201)\n",
      "\n"
     ]
    }
   ],
   "source": [
    "n = len(all_relation_new) # the number of all relations in the AF\n",
    "attribution = {} # store the attribution of all the relations\n",
    "\n",
    "for i in range(len(all_relation_new)):\n",
    "\n",
    "    # split current and the rest relation\n",
    "    cur_relation = all_relation_new[i]\n",
    "    rest_relation = all_relation_new.copy()\n",
    "    rest_relation.remove(cur_relation)\n",
    "\n",
    "    # compute combinations for the rest_relation\n",
    "    combine_rest_relation = []\n",
    "    for j in range(len(rest_relation)+1):\n",
    "        combine_rest_relation.extend(combine(rest_relation, j))\n",
    "\n",
    "    difference = []\n",
    "    coefficient = []\n",
    "\n",
    "    # remove relations in combine_rest_relation\n",
    "    for j in combine_rest_relation:\n",
    "        for k in j:\n",
    "            # remove att\n",
    "            if k[0]==\"att\":\n",
    "                temp_attacker = model.BAG.remove_attack(k[1],k[2]) # k[1] attacks k[2]\n",
    "            # remove sup\n",
    "            elif k[0]==\"sup\":\n",
    "                temp_supporter = model.BAG.remove_support(k[1],k[2]) # k[1] supports k[2]\n",
    "\n",
    "        # compute sigma(S U {i})\n",
    "        model.solve(delta=10e-2, epsilon=10e-4, verbose=True, generate_plot=False)\n",
    "        topic_arg = model.BAG.arguments[topic_a]\n",
    "        strength_before_drop_cur = topic_arg.strength\n",
    "\n",
    "        # remove cur_relation\n",
    "        if cur_relation[0]==\"att\":\n",
    "            temp_attacker = model.BAG.remove_attack(cur_relation[1],cur_relation[2])\n",
    "        elif cur_relation[0]==\"sup\":\n",
    "            temp_supporter = model.BAG.remove_support(cur_relation[1],cur_relation[2])\n",
    "\n",
    "        # compute sigma(S)\n",
    "        model.solve(delta=10e-2, epsilon=10e-4, verbose=True, generate_plot=False)\n",
    "        topic_arg = model.BAG.arguments[topic_a]\n",
    "        strength_after_drop_cur = topic_arg.strength\n",
    "\n",
    "        # compute sigma(S U {i})-sigma(S)\n",
    "        difference.append(strength_before_drop_cur-strength_after_drop_cur)\n",
    "\n",
    "        # compute the coefficient\n",
    "        S = len(j)\n",
    "        coefficient.append(math.factorial(n-1-S) * math.factorial(S) / math.factorial(n))\n",
    "\n",
    "        # recover QBAF for the next iteration\n",
    "        model = grad.semantics.QuadraticEnergyModel()\n",
    "        model.approximator = grad.algorithms.RK4(model)\n",
    "        model.BAG = grad.BAG(filename)\n",
    "        model.solve(delta=10e-2, epsilon=10e-4, verbose=True, generate_plot=False)\n",
    "\n",
    "    # compute attributions\n",
    "    attribution[cur_relation] = sum(np.multiply(coefficient, difference))"
   ]
  },
  {
   "cell_type": "code",
   "execution_count": 20,
   "outputs": [
    {
     "data": {
      "text/plain": "{('att', '0', '1'): -0.08643395487097505,\n ('att', '1', '0'): 0.011375019949063703}"
     },
     "execution_count": 20,
     "metadata": {},
     "output_type": "execute_result"
    }
   ],
   "source": [
    "attribution"
   ],
   "metadata": {
    "collapsed": false,
    "pycharm": {
     "name": "#%%\n"
    }
   }
  }
 ],
 "metadata": {
  "kernelspec": {
   "display_name": "Python 3 (ipykernel)",
   "language": "python",
   "name": "python3"
  },
  "language_info": {
   "codemirror_mode": {
    "name": "ipython",
    "version": 3
   },
   "file_extension": ".py",
   "mimetype": "text/x-python",
   "name": "python",
   "nbconvert_exporter": "python",
   "pygments_lexer": "ipython3",
   "version": "3.9.7"
  },
  "vscode": {
   "interpreter": {
    "hash": "369f2c481f4da34e4445cda3fffd2e751bd1c4d706f27375911949ba6bb62e1c"
   }
  }
 },
 "nbformat": 4,
 "nbformat_minor": 2
}
