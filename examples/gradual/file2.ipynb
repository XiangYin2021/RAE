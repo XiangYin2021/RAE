{
 "cells": [
  {
   "cell_type": "code",
   "execution_count": 1,
   "metadata": {},
   "outputs": [],
   "source": [
    "import sys\n",
    "sys.path.append(\"../../src/\")\n",
    "import uncertainpy.gradual as grad\n",
    "import random\n",
    "random.seed(0)"
   ]
  },
  {
   "cell_type": "code",
   "execution_count": 2,
   "metadata": {},
   "outputs": [],
   "source": [
    "from itertools import combinations\n",
    "\n",
    "# generate random combination with number n\n",
    "def combine(temp_list, n):\n",
    "    return list(combinations(temp_list, n))"
   ]
  },
  {
   "cell_type": "code",
   "execution_count": 3,
   "outputs": [],
   "source": [
    "# generate random sublist from current list\n",
    "def generate_new_list(original_list):\n",
    "    new_list = []\n",
    "    for element in original_list:\n",
    "        if random.choice([True, False]):\n",
    "            new_list.append(element)\n",
    "    return new_list"
   ],
   "metadata": {
    "collapsed": false
   }
  },
  {
   "cell_type": "code",
   "execution_count": 4,
   "metadata": {},
   "outputs": [],
   "source": [
    "# set semantics and compute strength of arguments\n",
    "bag = grad.BAG(\"../../bags/fig6.bag\")\n",
    "\n",
    "# DF-QuAD semantics\n",
    "agg_f = grad.semantics.modular.ProductAggregation()\n",
    "inf_f = grad.semantics.modular.LinearInfluence(conservativeness=1)\n",
    "\n",
    "# QE semantics\n",
    "# agg_f = grad.semantics.modular.SumAggregation()\n",
    "# inf_f = grad.semantics.modular.QuadraticMaximumInfluence(conservativeness=1)\n",
    "\n",
    "strength_values = grad.algorithms.computeStrengthValues(bag, agg_f, inf_f)"
   ]
  },
  {
   "cell_type": "code",
   "execution_count": 5,
   "metadata": {},
   "outputs": [],
   "source": [
    "# get all the attacks and supports in QBAF\n",
    "att_relation = bag.get_attacks()\n",
    "sup_relation = bag.get_supports()\n",
    "all_relation = att_relation + sup_relation"
   ]
  },
  {
   "cell_type": "code",
   "execution_count": 6,
   "metadata": {},
   "outputs": [],
   "source": [
    "# rename relation concisely\n",
    "all_relation_new = []\n",
    "for i in all_relation:\n",
    "    if str(i)[0:3]==\"Att\":\n",
    "        all_relation_new.append((\"att\",str(i.get_attacker().get_name()),str(i.get_attacked().get_name())))\n",
    "    elif str(i)[0:3]==\"Sup\":\n",
    "        all_relation_new.append((\"sup\",str(i.get_supporter().get_name()),str(i.get_supported().get_name())))"
   ]
  },
  {
   "cell_type": "code",
   "execution_count": 7,
   "metadata": {},
   "outputs": [],
   "source": [
    "topic_a = \"1\"\n",
    "topic_arg = bag.arguments[topic_a]"
   ]
  },
  {
   "cell_type": "code",
   "execution_count": 8,
   "metadata": {},
   "outputs": [
    {
     "name": "stdout",
     "output_type": "stream",
     "text": [
      "('1', 0.5, 0.2543945275247097)\n",
      "('2', 0.5, 0.5009765550494194)\n",
      "('3', 0.5, 0.9921875)\n",
      "('4', 0.5, 0.9999999850988388)\n",
      "('5', 0.5, 0.998046875)\n",
      "('6', 0.5, 0.5)\n",
      "('7', 0.5, 0.5)\n",
      "('8', 0.5, 0.5)\n",
      "('9', 0.5, 0.5)\n",
      "('10', 0.5, 0.5)\n",
      "('11', 0.5, 0.5)\n",
      "('12', 0.5, 0.99951171875)\n",
      "('13', 0.5, 0.99609375)\n",
      "('14', 0.5, 0.984375)\n",
      "('15', 0.5, 0.75)\n",
      "('16', 0.5, 0.984375)\n",
      "('17', 0.5, 0.96875)\n",
      "('18', 0.5, 0.96875)\n",
      "('19', 0.5, 0.875)\n",
      "('20', 0.5, 0.9375)\n",
      "('21', 0.5, 0.96875)\n",
      "('22', 0.5, 0.5)\n",
      "('23', 0.5, 0.75)\n",
      "('24', 0.5, 0.875)\n",
      "('25', 0.5, 0.9375)\n",
      "('26', 0.5, 0.9375)\n",
      "('27', 0.5, 0.5)\n",
      "('28', 0.5, 0.5)\n",
      "('29', 0.5, 0.5)\n",
      "('30', 0.5, 0.5)\n",
      "('31', 0.5, 0.5)\n",
      "('32', 0.5, 0.5)\n",
      "('33', 0.5, 0.875)\n",
      "('34', 0.5, 0.5)\n",
      "('35', 0.5, 0.5)\n",
      "('36', 0.5, 0.5)\n",
      "('37', 0.5, 0.5)\n",
      "('38', 0.5, 0.5)\n",
      "('39', 0.5, 0.5)\n",
      "('40', 0.5, 0.5)\n",
      "('41', 0.5, 0.5)\n",
      "('42', 0.5, 0.5)\n",
      "('43', 0.5, 0.5)\n",
      "('44', 0.5, 0.5)\n",
      "('45', 0.5, 0.5)\n",
      "('46', 0.5, 0.5)\n",
      "('47', 0.5, 0.5)\n",
      "('48', 0.5, 0.5)\n"
     ]
    }
   ],
   "source": [
    "# compute strength for all arguments\n",
    "for arg in bag.arguments.values():\n",
    "    print((arg.name,arg.initial_weight,arg.strength))"
   ]
  },
  {
   "cell_type": "code",
   "execution_count": 9,
   "metadata": {
    "scrolled": false
   },
   "outputs": [
    {
     "name": "stdout",
     "output_type": "stream",
     "text": [
      "edge i:0\n",
      "edge i:1\n",
      "edge i:2\n",
      "edge i:3\n",
      "edge i:4\n",
      "edge i:5\n",
      "edge i:6\n",
      "edge i:7\n",
      "edge i:8\n",
      "edge i:9\n",
      "edge i:10\n",
      "edge i:11\n",
      "edge i:12\n",
      "edge i:13\n",
      "edge i:14\n",
      "edge i:15\n",
      "edge i:16\n",
      "edge i:17\n",
      "edge i:18\n",
      "edge i:19\n",
      "edge i:20\n",
      "edge i:21\n",
      "edge i:22\n",
      "edge i:23\n",
      "edge i:24\n",
      "edge i:25\n",
      "edge i:26\n",
      "edge i:27\n",
      "edge i:28\n",
      "edge i:29\n",
      "edge i:30\n",
      "edge i:31\n",
      "edge i:32\n",
      "edge i:33\n",
      "edge i:34\n",
      "edge i:35\n",
      "edge i:36\n",
      "edge i:37\n",
      "edge i:38\n",
      "edge i:39\n",
      "edge i:40\n",
      "edge i:41\n",
      "edge i:42\n",
      "edge i:43\n",
      "edge i:44\n",
      "edge i:45\n",
      "edge i:46\n"
     ]
    }
   ],
   "source": [
    "# approximate attributions\n",
    "n = len(all_relation_new) # the number of all relations in the AF\n",
    "attribution = {} # store the attribution of all the relations\n",
    "sample_count_N = 1000 # iterate 1000 times\n",
    "\n",
    "for i in range(len(all_relation_new)):\n",
    "    print(f\"edge i:{i}\")\n",
    "\n",
    "    # split current and the other relation\n",
    "    cur_relation = all_relation_new[i]\n",
    "    rest_relation = all_relation_new.copy()\n",
    "    rest_relation.remove(cur_relation)\n",
    "\n",
    "    difference = []\n",
    "    coefficient = []\n",
    "\n",
    "    sample_count = sample_count_N\n",
    "\n",
    "    for index in range(1, sample_count+1): # iterations\n",
    "        new_list = generate_new_list(rest_relation) # choose random elements in rest_relation\n",
    "        if new_list == []:\n",
    "            new_tuple = ()\n",
    "        else:\n",
    "            new_tuple = tuple(new_list)\n",
    "        j = new_tuple\n",
    "        for k in j:\n",
    "            # remove att\n",
    "            if k[0] == \"att\":\n",
    "                temp_attacker = bag.remove_attack(k[1],k[2]) # k[1] attacks k[2]\n",
    "            # remove sup\n",
    "            elif k[0] == \"sup\":\n",
    "                temp_supporter = bag.remove_support(k[1],k[2]) # k[1] supports k[2]\n",
    "\n",
    "\n",
    "\n",
    "        # compute sigma(S U {i})\n",
    "        strength_values = grad.algorithms.computeStrengthValues(bag, agg_f, inf_f)\n",
    "        topic_arg = bag.arguments[topic_a]\n",
    "        strength_before_drop_cur = topic_arg.strength\n",
    "\n",
    "        # remove cur_relation\n",
    "        if cur_relation[0]==\"att\":\n",
    "            temp_attacker = bag.remove_attack(cur_relation[1],cur_relation[2])\n",
    "        elif cur_relation[0]==\"sup\":\n",
    "            temp_supporter = bag.remove_support(cur_relation[1],cur_relation[2])\n",
    "\n",
    "        # compute sigma(S)\n",
    "        strength_values = grad.algorithms.computeStrengthValues(bag, agg_f, inf_f)\n",
    "        topic_arg = bag.arguments[topic_a]\n",
    "        strength_after_drop_cur = topic_arg.strength\n",
    "\n",
    "        # compute sigma(S U {i})-sigma(S)\n",
    "        difference.append(strength_before_drop_cur-strength_after_drop_cur)\n",
    "\n",
    "        # recover BAG for the next iteration\n",
    "        bag = grad.BAG(\"../../bags/fig6.bag\")\n",
    "        strength_values = grad.algorithms.computeStrengthValues(bag, agg_f, inf_f)\n",
    "\n",
    "    # compute the attribution\n",
    "    attribution[cur_relation] = sum(difference) / sample_count_N"
   ]
  },
  {
   "cell_type": "code",
   "execution_count": 10,
   "outputs": [
    {
     "data": {
      "text/plain": "{('att', '3', '1'): -0.4553359375,\n ('att', '5', '2'): -0.09130078125,\n ('att', '43', '32'): -4.064750671386719e-05,\n ('att', '44', '32'): -5.818748474121094e-05,\n ('sup', '2', '1'): 0.25962406539916993,\n ('sup', '4', '2'): 0.11530842876434326,\n ('sup', '6', '3'): -0.01514453125,\n ('sup', '7', '3'): -0.0159453125,\n ('sup', '8', '3'): -0.0164140625,\n ('sup', '9', '3'): -0.013234375,\n ('sup', '10', '3'): -0.01462109375,\n ('sup', '11', '3'): -0.0151484375,\n ('sup', '12', '4'): 0.009594302177429199,\n ('sup', '13', '4'): 0.00935735321044922,\n ('sup', '14', '4'): 0.008407132148742676,\n ('sup', '15', '5'): -0.01232763671875,\n ('sup', '16', '5'): -0.01747119140625,\n ('sup', '17', '12'): 0.0017309073209762574,\n ('sup', '18', '12'): 0.0012743062973022462,\n ('sup', '19', '13'): 0.0013789553642272949,\n ('sup', '20', '13'): 0.0015748465061187745,\n ('sup', '21', '14'): 0.0017821805477142333,\n ('sup', '22', '15'): -0.00230615234375,\n ('sup', '23', '16'): -0.0015986328125,\n ('sup', '24', '16'): -0.00288671875,\n ('sup', '25', '17'): 0.0002979316711425781,\n ('sup', '26', '18'): 0.0003736946582794189,\n ('sup', '27', '19'): 0.00021155460178852082,\n ('sup', '28', '19'): 0.00014874267578125,\n ('sup', '29', '20'): 0.00014896059036254881,\n ('sup', '30', '20'): 0.00013988685607910155,\n ('sup', '31', '20'): 0.0001473846435546875,\n ('sup', '32', '21'): 0.000217348575592041,\n ('sup', '33', '21'): 0.0004945240020751954,\n ('sup', '34', '23'): -0.0004736328125,\n ('sup', '35', '24'): -0.00036181640625,\n ('sup', '36', '24'): -0.00035205078125,\n ('sup', '37', '25'): 1.5981674194335937e-05,\n ('sup', '38', '25'): 2.5607109069824218e-05,\n ('sup', '39', '25'): 3.493022918701172e-05,\n ('sup', '40', '26'): 2.7836203575134278e-05,\n ('sup', '41', '26'): 3.78875732421875e-05,\n ('sup', '42', '26'): 2.31475830078125e-05,\n ('sup', '45', '32'): 2.789783477783203e-05,\n ('sup', '46', '32'): 6.237220764160156e-05,\n ('sup', '47', '33'): 3.093743324279785e-05,\n ('sup', '48', '33'): 6.712532043457031e-05}"
     },
     "execution_count": 10,
     "metadata": {},
     "output_type": "execute_result"
    }
   ],
   "source": [
    "attribution"
   ],
   "metadata": {
    "collapsed": false
   }
  },
  {
   "cell_type": "markdown",
   "source": [],
   "metadata": {
    "collapsed": false
   }
  }
 ],
 "metadata": {
  "kernelspec": {
   "display_name": "Python 3 (ipykernel)",
   "language": "python",
   "name": "python3"
  },
  "language_info": {
   "codemirror_mode": {
    "name": "ipython",
    "version": 3
   },
   "file_extension": ".py",
   "mimetype": "text/x-python",
   "name": "python",
   "nbconvert_exporter": "python",
   "pygments_lexer": "ipython3",
   "version": "3.9.7"
  },
  "vscode": {
   "interpreter": {
    "hash": "369f2c481f4da34e4445cda3fffd2e751bd1c4d706f27375911949ba6bb62e1c"
   }
  }
 },
 "nbformat": 4,
 "nbformat_minor": 2
}
