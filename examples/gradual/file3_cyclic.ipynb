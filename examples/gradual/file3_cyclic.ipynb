{
 "cells": [
  {
   "cell_type": "code",
   "execution_count": 61,
   "metadata": {
    "collapsed": true
   },
   "outputs": [],
   "source": [
    "import random\n",
    "\n",
    "# set random seed\n",
    "random.seed(0)\n",
    "\n",
    "# generate random graphs - may contain cycles.\n",
    "def generate_graph(num_nodes, num_edges):\n",
    "    # initialise\n",
    "    graph = {node: set() for node in range(num_nodes)}\n",
    "    all_edges = []\n",
    "\n",
    "    # generate all possible edges\n",
    "    for i in range(num_nodes):\n",
    "        for j in range(num_nodes):\n",
    "            all_edges.append((i, j))\n",
    "\n",
    "    # the number of generated edges should be less than len(all_edges)\n",
    "    if num_edges < len(all_edges):\n",
    "        selected_edges = random.sample(all_edges, num_edges)\n",
    "    else:\n",
    "        selected_edges = all_edges\n",
    "        print(\"Note that num_edges is too large!\")\n",
    "\n",
    "    # add edges to graph\n",
    "    for edge in selected_edges:\n",
    "        u, v = edge\n",
    "        graph[u].add(v)\n",
    "\n",
    "    return graph"
   ]
  },
  {
   "cell_type": "code",
   "execution_count": 62,
   "outputs": [],
   "source": [
    "# test if the graph contains cycles\n",
    "def find_cycles(graph, start, current, visited, path, cycles):\n",
    "    visited[current] = True\n",
    "    path.append(current)\n",
    "    for neighbor in graph[current]:\n",
    "        if neighbor == start and len(path) > 0:\n",
    "            # find a cycle\n",
    "            cycles.append(path.copy()+[neighbor])\n",
    "            break\n",
    "        elif not visited[neighbor]:\n",
    "            find_cycles(graph, start, neighbor, visited, path, cycles)\n",
    "    # backtracking\n",
    "    visited[current] = False\n",
    "    path.pop()\n",
    "\n",
    "def has_cycles(graph):\n",
    "    cycles = []\n",
    "    num_nodes = len(graph)\n",
    "    visited = [False] * num_nodes\n",
    "    for node in range(num_nodes):\n",
    "        find_cycles(graph, node, node, visited, [], cycles)\n",
    "        if len(cycles) > 0:\n",
    "            return True"
   ],
   "metadata": {
    "collapsed": false,
    "pycharm": {
     "name": "#%%\n"
    }
   }
  },
  {
   "cell_type": "code",
   "execution_count": 63,
   "outputs": [],
   "source": [
    "# generate random acyclic graph\n",
    "num_nodes = 15\n",
    "num_edges = 25\n",
    "# while True:\n",
    "#     random_graph = generate_graph(num_nodes, num_edges)\n",
    "#     if has_cycles(random_graph):\n",
    "#         break\n",
    "random_graph = generate_graph(num_nodes, num_edges)\n",
    "print(random_graph)"
   ],
   "metadata": {
    "collapsed": false
   }
  },
  {
   "cell_type": "markdown",
   "source": [],
   "metadata": {
    "collapsed": false
   }
  },
  {
   "cell_type": "code",
   "execution_count": 64,
   "outputs": [],
   "source": [
    "import sys\n",
    "\n",
    "# generate a random acyclic QBAF and output to a file\n",
    "with open('../../bags/approx_cyclic.bag', 'w') as f:\n",
    "    sys.stdout = f\n",
    "\n",
    "    # generate random base scores for arguments\n",
    "    for node, edges in random_graph.items():\n",
    "        random_float = random.uniform(0.0, 1.0)\n",
    "        print(f\"arg({node}, {random_float}).\")\n",
    "\n",
    "    # generate random polarity for edges\n",
    "    for node, edges in random_graph.items():\n",
    "        for edge in edges:\n",
    "            random_boolean = random.choice([True, False])\n",
    "            if random_boolean:\n",
    "                print(f\"att({node}, {edge}).\")\n",
    "            else:\n",
    "                print(f\"sup({node}, {edge}).\")\n",
    "\n",
    "sys.stdout = sys.__stdout__"
   ],
   "metadata": {
    "collapsed": false
   }
  }
 ],
 "metadata": {
  "kernelspec": {
   "display_name": "Python 3",
   "language": "python",
   "name": "python3"
  },
  "language_info": {
   "codemirror_mode": {
    "name": "ipython",
    "version": 2
   },
   "file_extension": ".py",
   "mimetype": "text/x-python",
   "name": "python",
   "nbconvert_exporter": "python",
   "pygments_lexer": "ipython2",
   "version": "2.7.6"
  }
 },
 "nbformat": 4,
 "nbformat_minor": 0
}
