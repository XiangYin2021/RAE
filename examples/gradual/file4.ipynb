{
 "cells": [
  {
   "cell_type": "code",
   "execution_count": 1,
   "metadata": {},
   "outputs": [],
   "source": [
    "import sys\n",
    "sys.path.append(\"../../src/\")\n",
    "import uncertainpy.gradual as grad\n",
    "import random\n",
    "random.seed(0)"
   ]
  },
  {
   "cell_type": "code",
   "execution_count": 2,
   "metadata": {},
   "outputs": [],
   "source": [
    "from itertools import combinations\n",
    "\n",
    "# generate random combination with number n\n",
    "def combine(temp_list, n):\n",
    "    return list(combinations(temp_list, n))"
   ]
  },
  {
   "cell_type": "code",
   "execution_count": 3,
   "outputs": [],
   "source": [
    "# generate random sublist from current list\n",
    "def generate_new_list(original_list):\n",
    "    new_list = []\n",
    "    for element in original_list:\n",
    "        if random.choice([True, False]):\n",
    "            new_list.append(element)\n",
    "    return new_list"
   ],
   "metadata": {
    "collapsed": false
   }
  },
  {
   "cell_type": "code",
   "execution_count": 4,
   "metadata": {},
   "outputs": [],
   "source": [
    "# set semantics and compute strength of arguments\n",
    "bag = grad.BAG(\"../../bags/approx.bag\")\n",
    "\n",
    "# DF-QuAD semantics\n",
    "agg_f = grad.semantics.modular.ProductAggregation()\n",
    "inf_f = grad.semantics.modular.LinearInfluence(conservativeness=1)\n",
    "\n",
    "# QE semantics\n",
    "# agg_f = grad.semantics.modular.SumAggregation()\n",
    "# inf_f = grad.semantics.modular.QuadraticMaximumInfluence(conservativeness=1)\n",
    "\n",
    "strength_values = grad.algorithms.computeStrengthValues(bag, agg_f, inf_f)"
   ]
  },
  {
   "cell_type": "code",
   "execution_count": 5,
   "metadata": {},
   "outputs": [],
   "source": [
    "# get all the attacks and supports in QBAF\n",
    "att_relation = bag.get_attacks()\n",
    "sup_relation = bag.get_supports()\n",
    "all_relation = att_relation + sup_relation"
   ]
  },
  {
   "cell_type": "code",
   "execution_count": 6,
   "metadata": {},
   "outputs": [],
   "source": [
    "# rename relation concisely\n",
    "all_relation_new = []\n",
    "for i in all_relation:\n",
    "    if str(i)[0:3]==\"Att\":\n",
    "        all_relation_new.append((\"att\",str(i.get_attacker().get_name()),str(i.get_attacked().get_name())))\n",
    "    elif str(i)[0:3]==\"Sup\":\n",
    "        all_relation_new.append((\"sup\",str(i.get_supporter().get_name()),str(i.get_supported().get_name())))"
   ]
  },
  {
   "cell_type": "code",
   "execution_count": 7,
   "metadata": {},
   "outputs": [],
   "source": [
    "# set topic argument\n",
    "topic_a = \"14\"\n",
    "topic_arg = bag.arguments[topic_a]"
   ]
  },
  {
   "cell_type": "code",
   "execution_count": 8,
   "metadata": {},
   "outputs": [
    {
     "name": "stdout",
     "output_type": "stream",
     "text": [
      "('0', 0.7298317482601286, 0.7298317482601286)\n",
      "('1', 0.8988382879679935, 0.8988382879679935)\n",
      "('2', 0.6839839319154413, 0.6839839319154413)\n",
      "('3', 0.47214271545271336, 0.1492046845121331)\n",
      "('4', 0.1007012080683658, 0.0856761160885346)\n",
      "('5', 0.4341718354537837, 0.9427598541585769)\n",
      "('6', 0.6108869734438016, 0.6676428334271032)\n",
      "('7', 0.9130110532378982, 0.9950207400007455)\n",
      "('8', 0.9666063677707588, 0.9971359555618804)\n",
      "('9', 0.47700977655271704, 0.15074275402408355)\n",
      "('10', 0.8653099277716401, 0.13064902905126197)\n",
      "('11', 0.2604923103919594, 0.9576704719959819)\n",
      "('12', 0.8050278270130223, 0.8249473853396271)\n",
      "('13', 0.5486993038355893, 0.8191108821442354)\n",
      "('14', 0.014041700164018955, 0.27760454328825995)\n"
     ]
    }
   ],
   "source": [
    "# compute strength for all arguments\n",
    "for arg in bag.arguments.values():\n",
    "    print((arg.name,arg.initial_weight,arg.strength))"
   ]
  },
  {
   "cell_type": "code",
   "execution_count": 9,
   "metadata": {
    "scrolled": false
   },
   "outputs": [],
   "source": [
    "# approximate attribution for a random edge i\n",
    "n = len(all_relation_new) # the number of all relations in the AF\n",
    "attribution = {} # store the attribution of all the relations\n",
    "sample_count_N = 1000 # iterate 1000 times\n",
    "\n",
    "i = len(all_relation_new) - 4 # compute approximate RAE for edge i\n",
    "\n",
    "# split current and the other relation\n",
    "cur_relation = all_relation_new[i]\n",
    "rest_relation = all_relation_new.copy()\n",
    "rest_relation.remove(cur_relation)\n",
    "\n",
    "difference = []\n",
    "coefficient = []\n",
    "\n",
    "sample_count = sample_count_N\n",
    "\n",
    "for index in range(1, sample_count+1): # iterations\n",
    "    new_list = generate_new_list(rest_relation) # choose random elements in rest_relation\n",
    "    if new_list == []:\n",
    "        new_tuple = ()\n",
    "    else:\n",
    "        new_tuple = tuple(new_list)\n",
    "    j = new_tuple\n",
    "    for k in j:\n",
    "        # remove att\n",
    "        if k[0] == \"att\":\n",
    "            temp_attacker = bag.remove_attack(k[1],k[2]) # k[1] attacks k[2]\n",
    "        # remove sup\n",
    "        elif k[0] == \"sup\":\n",
    "            temp_supporter = bag.remove_support(k[1],k[2]) # k[1] supports k[2]\n",
    "\n",
    "    # compute sigma(S U {i})\n",
    "    strength_values = grad.algorithms.computeStrengthValues(bag, agg_f, inf_f)\n",
    "    topic_arg = bag.arguments[topic_a]\n",
    "    strength_before_drop_cur = topic_arg.strength\n",
    "\n",
    "    # remove cur_relation\n",
    "    if cur_relation[0]==\"att\":\n",
    "        temp_attacker = bag.remove_attack(cur_relation[1],cur_relation[2])\n",
    "    elif cur_relation[0]==\"sup\":\n",
    "        temp_supporter = bag.remove_support(cur_relation[1],cur_relation[2])\n",
    "\n",
    "    # compute sigma(S)\n",
    "    strength_values = grad.algorithms.computeStrengthValues(bag, agg_f, inf_f)\n",
    "    topic_arg = bag.arguments[topic_a]\n",
    "    strength_after_drop_cur = topic_arg.strength\n",
    "\n",
    "    # compute sigma(S U {i})-sigma(S)\n",
    "    difference.append(strength_before_drop_cur-strength_after_drop_cur)\n",
    "\n",
    "    # recover BAG for the next iteration\n",
    "    bag = grad.BAG(\"../../bags/approx.bag\")\n",
    "    strength_values = grad.algorithms.computeStrengthValues(bag, agg_f, inf_f)\n",
    "\n",
    "# compute attribution for edge i\n",
    "attribution[cur_relation] = sum(difference) / sample_count_N"
   ]
  },
  {
   "cell_type": "code",
   "execution_count": 10,
   "outputs": [
    {
     "data": {
      "text/plain": "{('sup', '5', '14'): 0.3578844659937104}"
     },
     "execution_count": 10,
     "metadata": {},
     "output_type": "execute_result"
    }
   ],
   "source": [
    "attribution"
   ],
   "metadata": {
    "collapsed": false
   }
  },
  {
   "cell_type": "code",
   "execution_count": 11,
   "outputs": [],
   "source": [
    "# the average value of increasing number of samples\n",
    "# e.g., the avg for 10, 20, 30,... samples\n",
    "def calculate_averages(lst, group_size_K):\n",
    "    averages = []\n",
    "\n",
    "    for i in range(group_size_K, len(lst)+1, group_size_K):\n",
    "        sublist = lst[:i]\n",
    "        average = sum(sublist) / len(sublist)\n",
    "        averages.append(average)\n",
    "\n",
    "    return averages"
   ],
   "metadata": {
    "collapsed": false
   }
  },
  {
   "cell_type": "code",
   "execution_count": 12,
   "outputs": [],
   "source": [
    "group_size_K = 10\n",
    "avg = calculate_averages(difference, group_size_K)"
   ],
   "metadata": {
    "collapsed": false
   }
  },
  {
   "cell_type": "code",
   "execution_count": 13,
   "outputs": [],
   "source": [
    "relative_avg_diff=[]\n",
    "# the absolute difference between estimates at every 10-th iteration evolves with increasing number of samples.\n",
    "# for example, the mean of 20 iteratioins - the mean of 10 iterations\n",
    "for i in  range(1, len(avg)):\n",
    "    relative_avg_diff.append(avg[i]-avg[i-1])"
   ],
   "metadata": {
    "collapsed": false
   }
  },
  {
   "cell_type": "markdown",
   "source": [],
   "metadata": {
    "collapsed": false
   }
  },
  {
   "cell_type": "markdown",
   "source": [],
   "metadata": {
    "collapsed": false
   }
  },
  {
   "cell_type": "code",
   "execution_count": 14,
   "outputs": [
    {
     "data": {
      "text/plain": "<Figure size 640x480 with 1 Axes>",
      "image/png": "[encoded data removed]"
     },
     "metadata": {},
     "output_type": "display_data"
    }
   ],
   "source": [
    "import matplotlib.pyplot as plt\n",
    "\n",
    "# plot the convergence figure\n",
    "x = range(0, len(relative_avg_diff) * group_size_K, group_size_K)\n",
    "plt.plot(x, relative_avg_diff, label='approx_RAE')\n",
    "plt.legend()\n",
    "plt.xlabel('Iterations')\n",
    "plt.ylabel('Absolute difference')\n",
    "plt.title('Convergence')\n",
    "plt.show()"
   ],
   "metadata": {
    "collapsed": false
   }
  },
  {
   "cell_type": "code",
   "execution_count": 15,
   "outputs": [],
   "source": [
    "import json\n",
    "\n",
    "# write results to txt file\n",
    "\n",
    "num_nodes = len(bag.arguments)\n",
    "num_edges = len(all_relation)\n",
    "\n",
    "information = {}\n",
    "key = str(num_nodes) + \"_\" + str(num_edges)\n",
    "information[key] = relative_avg_diff\n",
    "json_str = json.dumps(information, ensure_ascii=False)\n",
    "\n",
    "with open('../../bags/node_edge_diff.txt', 'a') as f:\n",
    "    f.write(json_str + \"\\n\")"
   ],
   "metadata": {
    "collapsed": false
   }
  }
 ],
 "metadata": {
  "kernelspec": {
   "display_name": "Python 3 (ipykernel)",
   "language": "python",
   "name": "python3"
  },
  "language_info": {
   "codemirror_mode": {
    "name": "ipython",
    "version": 3
   },
   "file_extension": ".py",
   "mimetype": "text/x-python",
   "name": "python",
   "nbconvert_exporter": "python",
   "pygments_lexer": "ipython3",
   "version": "3.9.7"
  },
  "vscode": {
   "interpreter": {
    "hash": "369f2c481f4da34e4445cda3fffd2e751bd1c4d706f27375911949ba6bb62e1c"
   }
  }
 },
 "nbformat": 4,
 "nbformat_minor": 2
}
