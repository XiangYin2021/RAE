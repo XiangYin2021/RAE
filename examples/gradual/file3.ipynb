{
 "cells": [
  {
   "cell_type": "code",
   "execution_count": 1,
   "metadata": {
    "collapsed": true
   },
   "outputs": [],
   "source": [
    "import random\n",
    "\n",
    "# set random seed\n",
    "random.seed(0)\n",
    "\n",
    "# generate random acyclic graph\n",
    "def generate_graph(num_nodes, num_edges):\n",
    "    # initialise\n",
    "    graph = {node: set() for node in range(num_nodes)}\n",
    "    all_edges = []\n",
    "\n",
    "    # generate all possible edges\n",
    "    for i in range(num_nodes):\n",
    "        for j in range(i + 1, num_nodes):\n",
    "            all_edges.append((i, j))\n",
    "\n",
    "    # the number of generated edges should be less than len(all_edges)\n",
    "    if num_edges < len(all_edges):\n",
    "        selected_edges = random.sample(all_edges, num_edges)\n",
    "    else:\n",
    "        selected_edges = all_edges\n",
    "        print(\"Note that num_edges is too large!\")\n",
    "\n",
    "    # add edges to graph\n",
    "    for edge in selected_edges:\n",
    "        u, v = edge\n",
    "        graph[u].add(v)\n",
    "\n",
    "    return graph"
   ]
  },
  {
   "cell_type": "code",
   "execution_count": 2,
   "outputs": [
    {
     "name": "stdout",
     "output_type": "stream",
     "text": [
      "{0: {13, 6}, 1: {5, 6}, 2: {3, 8, 9, 12, 14}, 3: {10, 4, 14}, 4: {8, 6}, 5: {7, 8, 10, 11, 14}, 6: {12}, 7: {8, 10}, 8: {12}, 9: {10}, 10: {13}, 11: set(), 12: set(), 13: set(), 14: set()}\n"
     ]
    }
   ],
   "source": [
    "# generate random acyclic graph\n",
    "num_nodes = 15\n",
    "num_edges = 25\n",
    "random_graph = generate_graph(num_nodes, num_edges)\n",
    "print(random_graph)"
   ],
   "metadata": {
    "collapsed": false
   }
  },
  {
   "cell_type": "markdown",
   "source": [],
   "metadata": {
    "collapsed": false
   }
  },
  {
   "cell_type": "code",
   "execution_count": 3,
   "outputs": [],
   "source": [
    "import sys\n",
    "\n",
    "# generate a random acyclic QBAF and output to a file\n",
    "with open('../../bags/approx.bag', 'w') as f:\n",
    "    sys.stdout = f\n",
    "\n",
    "    # generate random base scores for arguments\n",
    "    for node, edges in random_graph.items():\n",
    "        random_float = random.uniform(0, 1)\n",
    "        print(f\"arg({node}, {random_float}).\")\n",
    "\n",
    "    # generate random polarity for edges\n",
    "    for node, edges in random_graph.items():\n",
    "        for edge in edges:\n",
    "            random_boolean = random.choice([True, False])\n",
    "            if random_boolean:\n",
    "                print(f\"att({node}, {edge}).\")\n",
    "            else:\n",
    "                print(f\"sup({node}, {edge}).\")\n",
    "\n",
    "sys.stdout = sys.__stdout__"
   ],
   "metadata": {
    "collapsed": false
   }
  }
 ],
 "metadata": {
  "kernelspec": {
   "display_name": "Python 3",
   "language": "python",
   "name": "python3"
  },
  "language_info": {
   "codemirror_mode": {
    "name": "ipython",
    "version": 2
   },
   "file_extension": ".py",
   "mimetype": "text/x-python",
   "name": "python",
   "nbconvert_exporter": "python",
   "pygments_lexer": "ipython2",
   "version": "2.7.6"
  }
 },
 "nbformat": 4,
 "nbformat_minor": 0
}
